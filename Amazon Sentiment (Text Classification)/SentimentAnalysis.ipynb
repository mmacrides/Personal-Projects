{
 "cells": [
  {
   "cell_type": "code",
   "execution_count": 6,
   "id": "8ff19cfe",
   "metadata": {},
   "outputs": [
    {
     "name": "stdout",
     "output_type": "stream",
     "text": [
      "(7863, 5)\n",
      "(7840, 6)\n"
     ]
    },
    {
     "data": {
      "text/plain": [
       "Sentiment\n",
       "2.0    0.855740\n",
       "0.0    0.103061\n",
       "1.0    0.041199\n",
       "Name: proportion, dtype: float64"
      ]
     },
     "execution_count": 6,
     "metadata": {},
     "output_type": "execute_result"
    }
   ],
   "source": [
    "import sys\n",
    "import os\n",
    "import pandas as pd\n",
    "import numpy as np\n",
    "from numpy.random import uniform\n",
    "from numpy.random import randint\n",
    "\n",
    "import nltk\n",
    "from sklearn.feature_extraction.text import CountVectorizer, TfidfVectorizer\n",
    "\n",
    "from sklearn.model_selection import train_test_split\n",
    "from sklearn.utils import resample\n",
    "\n",
    "from sklearn.naive_bayes import MultinomialNB\n",
    "from sklearn.linear_model import LogisticRegression\n",
    "from sklearn import metrics\n",
    "from sklearn.metrics import accuracy_score, f1_score, classification_report, ConfusionMatrixDisplay, average_precision_score\n",
    "import matplotlib.pyplot as plt\n",
    "\n",
    "\n",
    "from xgboost import XGBClassifier\n",
    "\n",
    "# Load your DataFrame with columns 'comments' and 'sentiments'\n",
    "# Replace 'your_dataframe.csv' with the actual file path\n",
    "df = pd.read_csv(\"Data/reviews.csv\")\n",
    "print(df.shape)\n",
    "\n",
    "# removing null comments\n",
    "df = df[~df['Comment'].isnull()].reset_index()\n",
    "print(df.shape)\n",
    "\n",
    "# setting target\n",
    "df['Sentiment'] = np.where(\n",
    "    df['Rating'].isin([1,2]), 0,\n",
    "    np.where(\n",
    "        df['Rating'].isin([4,5]), 2,\n",
    "        np.where(\n",
    "            df['Rating'].isin([3]), 1, np.nan\n",
    "        )\n",
    "    )\n",
    ")\n",
    "df['Sentiment'].value_counts(True,dropna=False)"
   ]
  },
  {
   "cell_type": "code",
   "execution_count": 7,
   "id": "78b71564",
   "metadata": {},
   "outputs": [
    {
     "name": "stderr",
     "output_type": "stream",
     "text": [
      "[nltk_data] Downloading package stopwords to\n",
      "[nltk_data]     /Users/mattmacrides/nltk_data...\n",
      "[nltk_data]   Package stopwords is already up-to-date!\n"
     ]
    },
    {
     "data": {
      "text/plain": [
       "0               comfortable take light used personal work\n",
       "1                               lightweight great machine\n",
       "2             writing review macbook air two years owning\n",
       "3       little macbooks ideal students small mature bu...\n",
       "4       love laptop currently typing sometimes screen ...\n",
       "                              ...                        \n",
       "7835    bought sandisk class use htc getting constant ...\n",
       "7836    used extending capabilities samsung galaxy not...\n",
       "7837    great card fast comes optional adapter sd clas...\n",
       "7838                    good amount space stuff want fits\n",
       "7839    heard bad things micro sd card crapping weeks ...\n",
       "Name: Comment_v2, Length: 7840, dtype: object"
      ]
     },
     "execution_count": 7,
     "metadata": {},
     "output_type": "execute_result"
    }
   ],
   "source": [
    "# removing stopwords and punctuation to comments\n",
    "nltk.download('stopwords')\n",
    "stopwords = nltk.corpus.stopwords.words(\"english\")\n",
    "def preprocess_text(text):\n",
    "    words = [w.lower() for w in text.split() if (w.isalpha() and w.lower() not in stopwords)]\n",
    "    return ' '.join(words)\n",
    "\n",
    "df['Comment_v2'] = df['Comment'].apply(preprocess_text)\n",
    "df['Comment_v2'] "
   ]
  },
  {
   "cell_type": "markdown",
   "id": "0890d6ce",
   "metadata": {},
   "source": [
    "# Modeling with TF-IDF"
   ]
  },
  {
   "cell_type": "markdown",
   "id": "c4210a28",
   "metadata": {},
   "source": [
    "## Unigram"
   ]
  },
  {
   "cell_type": "markdown",
   "id": "9de3dd58",
   "metadata": {},
   "source": [
    "### Logistic Regression"
   ]
  },
  {
   "cell_type": "code",
   "execution_count": 3,
   "id": "cf06e869",
   "metadata": {},
   "outputs": [],
   "source": [
    "uni_vectorizer = TfidfVectorizer(strip_accents=None,\n",
    "                             lowercase=False,\n",
    "                             preprocessor=None,\n",
    "                             ngram_range = (1,1))\n",
    "\n",
    "\n",
    "X_uni = uni_vectorizer.fit_transform(df[\"Comment_v2\"].values.astype('U'))\n",
    "y = df[\"Sentiment\"]\n",
    "\n",
    "X_uni_train, X_uni_test, y_train, y_test = train_test_split(X_uni, y, train_size=0.70, random_state = 42)"
   ]
  },
  {
   "cell_type": "code",
   "execution_count": 4,
   "metadata": {},
   "outputs": [
    {
     "name": "stderr",
     "output_type": "stream",
     "text": [
      "/Library/Frameworks/Python.framework/Versions/3.11/lib/python3.11/site-packages/xgboost/core.py:160: UserWarning: [13:08:56] WARNING: /Users/runner/work/xgboost/xgboost/src/gbm/../common/error_msg.h:80: If you are loading a serialized model (like pickle in Python, RDS in R) or\n",
      "configuration generated by an older version of XGBoost, please export the model by calling\n",
      "`Booster.save_model` from that version first, then load it back in current version. See:\n",
      "\n",
      "    https://xgboost.readthedocs.io/en/stable/tutorials/saving_model.html\n",
      "\n",
      "for more details about differences between saving model and serializing.\n",
      "\n",
      "  warnings.warn(smsg, UserWarning)\n",
      "/Library/Frameworks/Python.framework/Versions/3.11/lib/python3.11/site-packages/sklearn/base.py:347: InconsistentVersionWarning: Trying to unpickle estimator TfidfTransformer from version 1.1.1 when using version 1.3.0. This might lead to breaking code or invalid results. Use at your own risk. For more info please refer to:\n",
      "https://scikit-learn.org/stable/model_persistence.html#security-maintainability-limitations\n",
      "  warnings.warn(\n",
      "/Library/Frameworks/Python.framework/Versions/3.11/lib/python3.11/site-packages/sklearn/base.py:347: InconsistentVersionWarning: Trying to unpickle estimator TfidfVectorizer from version 1.1.1 when using version 1.3.0. This might lead to breaking code or invalid results. Use at your own risk. For more info please refer to:\n",
      "https://scikit-learn.org/stable/model_persistence.html#security-maintainability-limitations\n",
      "  warnings.warn(\n"
     ]
    },
    {
     "data": {
      "text/plain": [
       "array([2], dtype=int32)"
      ]
     },
     "execution_count": 4,
     "metadata": {},
     "output_type": "execute_result"
    }
   ],
   "source": [
    "import joblib\n",
    "model = joblib.load('/Users/mattmacrides/Personal-Projects-Local/Amazon Sentiment Model (Text Classification)/unigram_xgboost_oversample.joblib')\n",
    "vectorizer = joblib.load('/Users/mattmacrides/Personal-Projects-Local/Amazon Sentiment Model (Text Classification)/vectorizer.joblib')\n",
    "string = 'the words'\n",
    "\n",
    "\n",
    "vectorizer.fit_transform(df[\"Comment_v2\"].values.astype('U'))\n",
    "\n",
    "# Input string to be predicted\n",
    "input_text = \"Your input text goes here.\"\n",
    "\n",
    "# Preprocess the input string using the same vectorizer\n",
    "input_vector = vectorizer.transform([input_text])\n",
    "import xgboost as xgb\n",
    "\n",
    "prediction = model.predict(input_vector)\n",
    "prediction\n",
    "\n"
   ]
  },
  {
   "cell_type": "code",
   "execution_count": 5,
   "id": "d2fa0362",
   "metadata": {},
   "outputs": [
    {
     "name": "stdout",
     "output_type": "stream",
     "text": [
      "0.8673469387755102\n",
      "0.9120738098094888\n"
     ]
    },
    {
     "data": {
      "image/png": "[encoded data removed]",
      "text/plain": [
       "<Figure size 640x480 with 2 Axes>"
      ]
     },
     "metadata": {},
     "output_type": "display_data"
    }
   ],
   "source": [
    "from sklearn.linear_model import LogisticRegression\n",
    "logreg_uni = LogisticRegression(multi_class='multinomial', solver='lbfgs', random_state = 42).fit(X_uni_train, y_train)\n",
    "logreg_uni_preds = logreg_uni.predict(X_uni_test)\n",
    "print(accuracy_score(logreg_uni_preds,y_test))\n",
    "print(f1_score(logreg_uni_preds, y_test, average='weighted'))\n",
    "\n",
    "cm = metrics.confusion_matrix(y_test, logreg_uni_preds)\n",
    "cm_display = ConfusionMatrixDisplay(confusion_matrix = cm, display_labels = [0,1,2])\n",
    "\n",
    "cm_display.plot()\n",
    "plt.show()\n"
   ]
  },
  {
   "cell_type": "markdown",
   "id": "a709ef05",
   "metadata": {},
   "source": [
    "As you can see these results aren't ideal because almost all records are being labeled as Class 3 (Positive sentiment) no matter what"
   ]
  },
  {
   "cell_type": "markdown",
   "id": "f209749f",
   "metadata": {},
   "source": [
    "### XGBoost"
   ]
  },
  {
   "cell_type": "markdown",
   "id": "d66ff3ba",
   "metadata": {},
   "source": [
    "#### Tuning"
   ]
  },
  {
   "cell_type": "code",
   "execution_count": 7,
   "id": "caf01305",
   "metadata": {
    "scrolled": true
   },
   "outputs": [],
   "source": [
    "# tuning_path = r'/GroupProject/unigram_xgboost.csv'\n",
    "# if os.path.exists(tuning_path):\n",
    "#     pass\n",
    "# else:\n",
    "#     print(\"Now we're tuning hyperparameters for {} iterations ~~>=__=<~~\".format(300))\n",
    "#     header = 'lr,tree,leaf,depth,subsample,colsample,auc_train,auc_test'\n",
    "#     with open(tuning_path, 'w') as f:\n",
    "#         f.write(header)\n",
    "#         f.write('\\n')\n",
    "#     for i in range(300):\n",
    "#         lr = uniform(low=0.01, high=0.1)\n",
    "#         tree = randint(low=100, high=1000)\n",
    "#         leaf = randint(low=3, high=8)\n",
    "#         depth = randint(low=3, high=6)\n",
    "#         subsample = uniform(low=0.5, high=1)\n",
    "#         colsample = uniform(low=0.5, high=1)\n",
    "#         params = {'learning_rate': lr,\n",
    "#                 'n_estimators': tree,\n",
    "#                 'num_leaves': leaf,\n",
    "#                 'max_depth': depth,\n",
    "#                 'subsample': subsample,\n",
    "#                 'colsample_bytree': colsample,\n",
    "#                 'objective': 'multi:softmax',\n",
    "#                 'random_state': 42}\n",
    "#         xgb = XGBClassifier(**params)\n",
    "#         xgb.fit(X_uni_train, y_train)\n",
    "\n",
    "#         # train\n",
    "#         train_preds = xgb.predict(X_uni_train)\n",
    "#         train_f1score = f1_score(train_preds, y_train, average='weighted')\n",
    "        \n",
    "#         # test\n",
    "#         test_preds = xgb.predict(X_uni_test)\n",
    "#         test_f1score = f1_score(test_preds, y_test, average='weighted')\n",
    "\n",
    "#         line = ','.join(str(i) for i in [lr, tree, leaf, depth, subsample, colsample, \n",
    "#                                             train_f1score, test_f1score])\n",
    "#         # print(\"Line {} is written into result\".format(line))\n",
    "#         with open(tuning_path, 'a') as f:\n",
    "#             f.write(line)\n",
    "#             f.write('\\n')\n",
    "#         print(\"Hyperparameter round {} : {} is finished\".format(i, line))\n",
    "#     print(\"~~~~Hyperparameter tuning done~~~~\")\n",
    "\n",
    "# xgb_uni_tuning = pd.read_csv(tuning_path)\n",
    "# xgb_uni_tuning.sort_values('auc_test', ascending=False)"
   ]
  },
  {
   "cell_type": "code",
   "execution_count": 6,
   "id": "896db986",
   "metadata": {},
   "outputs": [
    {
     "name": "stdout",
     "output_type": "stream",
     "text": [
      "0.8533163265306123\n",
      "0.9130622264190996\n"
     ]
    },
    {
     "data": {
      "image/png": "[encoded data removed]",
      "text/plain": [
       "<Figure size 640x480 with 2 Axes>"
      ]
     },
     "metadata": {},
     "output_type": "display_data"
    }
   ],
   "source": [
    "xgb_uni_params = {\n",
    "    'learning_rate': 0.014648,\n",
    "    'n_estimators': 103,\n",
    "    'max_depth': 5,\n",
    "    'subsample': 0.582055,\n",
    "    'colsample_bytree': 0.521305,\n",
    "    'objective': 'multi:softmax',\n",
    "    'random_state': 42\n",
    "}\n",
    "\n",
    "xgb_uni = XGBClassifier(**xgb_uni_params)\n",
    "xgb_uni.fit(X_uni_train, y_train)\n",
    "xgb_uni_preds = xgb_uni.predict(X_uni_test)\n",
    "print(accuracy_score(xgb_uni_preds,y_test))\n",
    "print(f1_score(xgb_uni_preds, y_test, average='weighted'))\n",
    "\n",
    "confusion_matrix = metrics.confusion_matrix(y_test, xgb_uni_preds)\n",
    "cm_display = ConfusionMatrixDisplay(confusion_matrix = confusion_matrix, display_labels = [0,1,2])\n",
    "\n",
    "cm_display.plot()\n",
    "plt.show()"
   ]
  },
  {
   "cell_type": "markdown",
   "id": "2400405b",
   "metadata": {},
   "source": [
    "As you can see it is still tagging positive sentiment for practically all by 19 records"
   ]
  },
  {
   "cell_type": "markdown",
   "id": "13c6aac8",
   "metadata": {},
   "source": [
    "## Oversampling Neutral and Negative Sentiment"
   ]
  },
  {
   "cell_type": "markdown",
   "id": "b61e3165",
   "metadata": {},
   "source": [
    "Option 1 with TFIDF before SMOTE: using the true IDF weights corresponding to the original text. Disadvantage: not consistent with the modified frequencies caused by SMOTE.\n",
    "\n",
    "https://datascience.stackexchange.com/questions/116103/do-sampling-before-or-after-tfidf-step"
   ]
  },
  {
   "cell_type": "code",
   "execution_count": 7,
   "id": "95fc7365",
   "metadata": {},
   "outputs": [],
   "source": [
    "from imblearn.over_sampling import SMOTE\n",
    "sm = SMOTE(random_state=42)\n",
    "X_uni_train_over, y_train_over = sm.fit_resample(X_uni_train, y_train)\n",
    "X_uni_test_over, y_test_over = X_uni_test.copy(), y_test.copy()"
   ]
  },
  {
   "cell_type": "code",
   "execution_count": 8,
   "id": "b62e5575",
   "metadata": {},
   "outputs": [
    {
     "name": "stdout",
     "output_type": "stream",
     "text": [
      "Pos, Neu, Neg rates in train are 33.33% 33.33% 33.33%\n",
      "Pos, Neu, Neg rates in test are 85.08% 4.00% 10.93%\n"
     ]
    }
   ],
   "source": [
    "print(\"Pos, Neu, Neg rates in train are {:.2%} {:.2%} {:.2%}\".format((y_train_over == 2).sum() / y_train_over.shape[0], (y_train_over == 1).sum() / y_train_over.shape[0], (y_train_over == 0).sum() / y_train_over.shape[0]))\n",
    "print(\"Pos, Neu, Neg rates in test are {:.2%} {:.2%} {:.2%}\".format((y_test_over == 2).sum() / y_test_over.shape[0], (y_test_over == 1).sum() / y_test_over.shape[0], (y_test_over == 0).sum() / y_test_over.shape[0]))"
   ]
  },
  {
   "cell_type": "code",
   "execution_count": 9,
   "id": "e9d7c3c0",
   "metadata": {},
   "outputs": [
    {
     "name": "stdout",
     "output_type": "stream",
     "text": [
      "0.8312074829931972\n",
      "0.8214059798095683\n"
     ]
    },
    {
     "name": "stderr",
     "output_type": "stream",
     "text": [
      "/Library/Frameworks/Python.framework/Versions/3.11/lib/python3.11/site-packages/sklearn/linear_model/_logistic.py:460: ConvergenceWarning: lbfgs failed to converge (status=1):\n",
      "STOP: TOTAL NO. of ITERATIONS REACHED LIMIT.\n",
      "\n",
      "Increase the number of iterations (max_iter) or scale the data as shown in:\n",
      "    https://scikit-learn.org/stable/modules/preprocessing.html\n",
      "Please also refer to the documentation for alternative solver options:\n",
      "    https://scikit-learn.org/stable/modules/linear_model.html#logistic-regression\n",
      "  n_iter_i = _check_optimize_result(\n"
     ]
    },
    {
     "data": {
      "image/png": "[encoded data removed]",
      "text/plain": [
       "<Figure size 640x480 with 2 Axes>"
      ]
     },
     "metadata": {},
     "output_type": "display_data"
    }
   ],
   "source": [
    "from sklearn.linear_model import LogisticRegression\n",
    "logreg_uni_over = LogisticRegression(multi_class='multinomial', solver='lbfgs', random_state=42).fit(X_uni_train_over, y_train_over)\n",
    "logreg_uni_preds_over = logreg_uni_over.predict(X_uni_test_over)\n",
    "print(accuracy_score(logreg_uni_preds_over,y_test_over))\n",
    "print(f1_score(logreg_uni_preds_over, y_test_over, average='weighted'))\n",
    "\n",
    "cm = metrics.confusion_matrix(y_test_over, logreg_uni_preds_over)\n",
    "cm\n",
    "cm_display = ConfusionMatrixDisplay(confusion_matrix = cm, display_labels = [0,1,2])\n",
    "\n",
    "cm_display.plot()\n",
    "plt.show()\n"
   ]
  },
  {
   "cell_type": "markdown",
   "id": "ff3d92c1",
   "metadata": {},
   "source": [
    "F-Score decreased but the confusiuon matrix is much more balanced due to oversampling"
   ]
  },
  {
   "cell_type": "code",
   "execution_count": 12,
   "id": "40358479",
   "metadata": {},
   "outputs": [],
   "source": [
    "# tuning_path = r'/Users/ethanshen/Documents/UIUC/Fa23/CS410/GroupProject/unigram_oversample_xgboost.csv'\n",
    "# if os.path.exists(tuning_path):\n",
    "#     pass\n",
    "# else:\n",
    "#     print(\"Now we're tuning hyperparameters for {} iterations ~~>=__=<~~\".format(300))\n",
    "#     header = 'lr,tree,depth,subsample,colsample,auc_train,auc_test'\n",
    "#     with open(tuning_path, 'w') as f:\n",
    "#         f.write(header)\n",
    "#         f.write('\\n')\n",
    "#     for i in range(300):\n",
    "#         lr = uniform(low=0.01, high=0.1)\n",
    "#         tree = randint(low=100, high=1000)\n",
    "#         depth = randint(low=3, high=6)\n",
    "#         subsample = uniform(low=0.5, high=1)\n",
    "#         colsample = uniform(low=0.5, high=1)\n",
    "#         params = {'learning_rate': lr,\n",
    "#                 'n_estimators': tree,\n",
    "#                 'max_depth': depth,\n",
    "#                 'subsample': subsample,\n",
    "#                 'colsample_bytree': colsample,\n",
    "#                 'objective': 'multi:softmax',\n",
    "#                 'random_state': 42}\n",
    "#         xgb = XGBClassifier(**params)\n",
    "#         xgb.fit(X_uni_train_over, y_train_over)\n",
    "\n",
    "#         # train\n",
    "#         train_preds = xgb.predict(X_uni_train_over)\n",
    "#         train_f1score = f1_score(train_preds, y_train_over, average='weighted')\n",
    "        \n",
    "#         # test\n",
    "#         test_preds = xgb.predict(X_uni_test_over)\n",
    "#         test_f1score = f1_score(test_preds, y_test_over, average='weighted')\n",
    "\n",
    "#         line = ','.join(str(i) for i in [lr, tree, depth, subsample, colsample, \n",
    "#                                             train_f1score, test_f1score])\n",
    "#         # print(\"Line {} is written into result\".format(line))\n",
    "#         with open(tuning_path, 'a') as f:\n",
    "#             f.write(line)\n",
    "#             f.write('\\n')\n",
    "#         print(\"Hyperparameter round {} : {} is finished\".format(i, line))\n",
    "#     print(\"~~~~Hyperparameter tuning done~~~~\")\n",
    "\n",
    "# xgb_uni_tuning = pd.read_csv(tuning_path)\n",
    "# xgb_uni_tuning.sort_values('auc_test', ascending=False)"
   ]
  },
  {
   "cell_type": "code",
   "execution_count": 10,
   "id": "c8694276",
   "metadata": {},
   "outputs": [
    {
     "name": "stdout",
     "output_type": "stream",
     "text": [
      "0.8622448979591837\n",
      "0.8754726769524975\n"
     ]
    },
    {
     "data": {
      "image/png": "[encoded data removed]",
      "text/plain": [
       "<Figure size 640x480 with 2 Axes>"
      ]
     },
     "metadata": {},
     "output_type": "display_data"
    }
   ],
   "source": [
    "xgb_uni_params = {\n",
    "    'learning_rate': 0.091607,\n",
    "    'n_estimators': 843,\n",
    "    'max_depth': 5,\n",
    "    'subsample': 0.871868,\n",
    "    'colsample_bytree': 0.827515,\n",
    "    'objective': 'multi:softmax',\n",
    "    'random_state': 42\n",
    "}\n",
    "\n",
    "xgb_uni_over = XGBClassifier(**xgb_uni_params)\n",
    "xgb_uni_over.fit(X_uni_train_over, y_train_over)\n",
    "xgb_uni_preds_over = xgb_uni_over.predict(X_uni_test_over)\n",
    "print(accuracy_score(xgb_uni_preds_over,y_test_over))\n",
    "print(f1_score(xgb_uni_preds_over, y_test_over, average='weighted'))\n",
    "\n",
    "confusion_matrix = metrics.confusion_matrix(y_test_over, xgb_uni_preds_over)\n",
    "confusion_matrix\n",
    "cm_display = ConfusionMatrixDisplay(confusion_matrix = confusion_matrix, display_labels = [0,1,2])\n",
    "\n",
    "cm_display.plot()\n",
    "plt.show()\n",
    "\n",
    "# import joblib\n",
    "# joblib.dump(xgb_uni_over,r'/Users/ethanshen/Documents/UIUC/Fa23/CS410/GroupProject/unigram_xgboost_oversample.joblib')"
   ]
  },
  {
   "cell_type": "markdown",
   "id": "7d92784a",
   "metadata": {},
   "source": [
    "Our F1 score went up 5% from hyper parameter tuning"
   ]
  },
  {
   "cell_type": "markdown",
   "id": "3c772dcb",
   "metadata": {},
   "source": [
    "## Bigram"
   ]
  },
  {
   "cell_type": "code",
   "execution_count": 11,
   "id": "88ec71ba",
   "metadata": {},
   "outputs": [],
   "source": [
    "bi_vectorizer = TfidfVectorizer(strip_accents=None,\n",
    "                             lowercase=False,\n",
    "                             preprocessor=None,\n",
    "                             ngram_range = (2,2))\n",
    "\n",
    "\n",
    "X_bi = bi_vectorizer.fit_transform(df[\"Comment\"].values.astype('U'))\n",
    "y = df[\"Sentiment\"]\n",
    "\n",
    "X_bi_train, X_bi_test, y_train, y_test = train_test_split(X_bi, y, train_size=0.70, random_state = 42)\n"
   ]
  },
  {
   "cell_type": "code",
   "execution_count": 12,
   "id": "0e7f8d6a",
   "metadata": {},
   "outputs": [
    {
     "name": "stdout",
     "output_type": "stream",
     "text": [
      "0.8507653061224489\n",
      "0.9193659545141281\n"
     ]
    },
    {
     "data": {
      "image/png": "[encoded data removed]",
      "text/plain": [
       "<Figure size 640x480 with 2 Axes>"
      ]
     },
     "metadata": {},
     "output_type": "display_data"
    }
   ],
   "source": [
    "logreg_bi = LogisticRegression(multi_class='multinomial', solver='lbfgs').fit(X_bi_train, y_train)\n",
    "logreg_bi_preds = logreg_bi.predict(X_bi_test)\n",
    "logreg_bi_preds_proba = logreg_bi.predict_proba(X_bi_test)\n",
    "\n",
    "print(accuracy_score(logreg_bi_preds,y_test))\n",
    "print(f1_score(logreg_bi_preds, y_test, average='weighted'))\n",
    "cm = metrics.confusion_matrix(y_test, logreg_bi_preds)\n",
    "cm\n",
    "cm_display = ConfusionMatrixDisplay(confusion_matrix = cm, display_labels = [0,1,2])\n",
    "\n",
    "cm_display.plot()\n",
    "plt.show()"
   ]
  },
  {
   "cell_type": "markdown",
   "id": "9ff132da",
   "metadata": {},
   "source": []
  },
  {
   "cell_type": "code",
   "execution_count": 13,
   "id": "b6b80b29",
   "metadata": {},
   "outputs": [
    {
     "name": "stdout",
     "output_type": "stream",
     "text": [
      "Pos, Neu, Neg rates in train are 33.33% 33.33% 33.33%\n",
      "Pos, Neu, Neg rates in test are 85.08% 4.00% 10.93%\n"
     ]
    }
   ],
   "source": [
    "from imblearn.over_sampling import SMOTE\n",
    "oversample = SMOTE(random_state = 42)\n",
    "X_bi_train_over, y_train_over = sm.fit_resample(X_bi_train, y_train)\n",
    "X_bi_test_over, y_test_over = X_bi_test.copy(), y_test.copy()\n",
    "print(\"Pos, Neu, Neg rates in train are {:.2%} {:.2%} {:.2%}\".format((y_train_over == 2).sum() / y_train_over.shape[0], (y_train_over == 1).sum() / y_train_over.shape[0], (y_train_over == 0).sum() / y_train_over.shape[0]))\n",
    "print(\"Pos, Neu, Neg rates in test are {:.2%} {:.2%} {:.2%}\".format((y_test_over == 2).sum() / y_test_over.shape[0], (y_test_over == 1).sum() / y_test_over.shape[0], (y_test_over == 0).sum() / y_test_over.shape[0]))"
   ]
  },
  {
   "cell_type": "code",
   "execution_count": 14,
   "id": "fb2b0b60",
   "metadata": {},
   "outputs": [
    {
     "name": "stdout",
     "output_type": "stream",
     "text": [
      "0.8507653061224489\n",
      "0.9193659545141281\n"
     ]
    },
    {
     "data": {
      "text/plain": [
       "array([[   0,    0,  257],\n",
       "       [   0,    0,   94],\n",
       "       [   0,    0, 2001]])"
      ]
     },
     "execution_count": 14,
     "metadata": {},
     "output_type": "execute_result"
    }
   ],
   "source": [
    "logreg_bi_over = LogisticRegression(multi_class='multinomial', solver='lbfgs').fit(X_bi_train_over, y_train_over)\n",
    "logreg_bi_preds_over = logreg_bi.predict(X_bi_test_over)\n",
    "\n",
    "print(accuracy_score(logreg_bi_preds_over, y_test_over))\n",
    "print(f1_score(logreg_bi_preds_over, y_test_over, average='weighted'))\n",
    "cm = metrics.confusion_matrix(y_test_over, logreg_bi_preds_over)\n",
    "cm"
   ]
  },
  {
   "cell_type": "markdown",
   "id": "7708d56f",
   "metadata": {},
   "source": [
    "It is only marking everything as class 3. So I decided to stay with the unigram oversample model"
   ]
  }
 ],
 "metadata": {
  "kernelspec": {
   "display_name": "Python 3.9.2 64-bit ('3.9.2')",
   "language": "python",
   "name": "python3"
  },
  "language_info": {
   "codemirror_mode": {
    "name": "ipython",
    "version": 3
   },
   "file_extension": ".py",
   "mimetype": "text/x-python",
   "name": "python",
   "nbconvert_exporter": "python",
   "pygments_lexer": "ipython3",
   "version": "3.11.5"
  },
  "vscode": {
   "interpreter": {
    "hash": "833db68fc5bc536e2fd15ea96b5158b720dd421467038326c0e17ecc712ca437"
   }
  }
 },
 "nbformat": 4,
 "nbformat_minor": 5
}
