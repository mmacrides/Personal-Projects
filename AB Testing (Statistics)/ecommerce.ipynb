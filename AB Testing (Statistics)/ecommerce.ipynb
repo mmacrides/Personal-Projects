{
 "cells": [
  {
   "cell_type": "markdown",
   "metadata": {},
   "source": [
    "https://www.kaggle.com/datasets/putdejudomthai/ecommerce-ab-testing-2022-dataset1/data\n",
    "https://medium.com/vptech/introduction-to-bayesian-a-b-testing-in-python-df81a9b3f5fd\n",
    "\n",
    " The company has developed a new web page in order to try and increase the number of users who \"convert,\" \n",
    " meaning the number of users who decide to pay for the company's product. Your goal is to work through this \n",
    " notebook to help the company understand if they should implement this new page, keep the old page, or perhaps\n",
    " run the experiment longer to make their decision."
   ]
  },
  {
   "cell_type": "code",
   "execution_count": 1,
   "metadata": {},
   "outputs": [],
   "source": [
    "import pandas as pd\n",
    "from scipy import stats\n",
    "import numpy as np\n",
    "from scipy.stats import ttest_ind"
   ]
  },
  {
   "cell_type": "markdown",
   "metadata": {},
   "source": [
    "## Using All Samples"
   ]
  },
  {
   "cell_type": "markdown",
   "metadata": {},
   "source": [
    "The Control group navigates to the old page while the variant navigates to the variant"
   ]
  },
  {
   "cell_type": "code",
   "execution_count": 9,
   "metadata": {},
   "outputs": [],
   "source": [
    "def getData(group, countryInd, countryName):\n",
    "    df = pd.read_csv(\"/Users/mattmacrides/Personal-Projects/AB Testing (Statistics)/Data/ab_data.csv\")\n",
    "    countries = pd.read_csv(\"/Users/mattmacrides/Personal-Projects/AB Testing (Statistics)/Data/countries.csv\")\n",
    "\n",
    "    # Drop Duplicates\n",
    "    df = df.drop_duplicates(subset='user_id', keep='first')\n",
    "    #Merge with country data\n",
    "    df = pd.merge(df, countries, on = 'user_id', how = 'inner')\n",
    "\n",
    "    # Create a DataFrame for the 'X' group\n",
    "    segment = df[df['group'] == group]\n",
    "\n",
    "    if countryInd == True:\n",
    "        segment = df[df['group'] == group]\n",
    "        segment = segment[segment['country'] == countryName]\n",
    "        array = segment['converted'].to_numpy()\n",
    "    else:\n",
    "        # Create arrays for the 'Converted' column in each group\n",
    "        array = segment['converted'].to_numpy()\n",
    "\n",
    "    return array"
   ]
  },
  {
   "cell_type": "code",
   "execution_count": 10,
   "metadata": {},
   "outputs": [],
   "source": [
    "def GetStatistics(control, variant):\n",
    "    # Descriptive Statistics\n",
    "    n_control = len(control)\n",
    "    n_variant = len(variant)\n",
    "\n",
    "    mean_control = np.mean(control).round(4)\n",
    "    mean_variant = np.mean(variant).round(4)\n",
    "\n",
    "    median_control = np.median(control)\n",
    "    median_variant = np.median(variant)\n",
    "\n",
    "    std_dev_control = np.std(control).round(4)\n",
    "    std_dev_variant = np.std(variant).round(4)\n",
    "\n",
    "    var_control = np.var(control).round(4)\n",
    "    var_variant = np.var(variant).round(4)\n",
    "\n",
    "    print(\"                                Descriptive Statistics:\")\n",
    "    print(\"|--------------------------------------------------------------------------------------|\")\n",
    "    print(f\"| The size of the Control group is: {n_control}  | The size of the Variant group is: {n_variant} |\")\n",
    "    print(f\"| Mean Control: {mean_control}                      | Mean Variant: {mean_variant}                     |\")\n",
    "    print(f\"| Median Control: {median_control}                       | Median Variant: {median_variant}                      |\")\n",
    "    print(f\"| Standard Deviation Control: {std_dev_control}        | Standard Deviation Variant: {std_dev_variant}       |\")\n",
    "    print(f\"| Variance Control: {var_control}                  | Variance Variant: {var_variant}                 |\")\n",
    "    print(\"|--------------------------------------------------------------------------------------|\")\n",
    "\n",
    "    return mean_control\n"
   ]
  },
  {
   "cell_type": "code",
   "execution_count": 11,
   "metadata": {},
   "outputs": [],
   "source": [
    "def meanDifference(control, variant):\n",
    "    mean_difference = variant.mean() - control.mean()\n",
    "    return mean_difference.round(4)"
   ]
  },
  {
   "cell_type": "code",
   "execution_count": 12,
   "metadata": {},
   "outputs": [],
   "source": [
    "def resize(control, variant, probability):\n",
    "    # Resize the control group to match the size of the variant group\n",
    "    new_control = np.random.choice(\n",
    "        a = np.unique(control),\n",
    "        size=len(variant),\n",
    "        replace=True,  # Use replacement for resize\n",
    "        p=[probability, 1 - probability]\n",
    "    )\n",
    "    \n",
    "    n_control = len(new_control)\n",
    "    n_variant = len(variant)\n",
    "    print(f\"| The size of the Control group is: {n_control}  | The size of the Variant group is: {n_variant} |\")\n",
    "\n",
    "    return new_control"
   ]
  },
  {
   "cell_type": "code",
   "execution_count": 13,
   "metadata": {},
   "outputs": [],
   "source": [
    "def evaluate(control, variant):\n",
    "    # Perform independent samples t-test\n",
    "    t_stat, p_value = ttest_ind(variant, control, alternative='two-sided')\n",
    "\n",
    "    # Calculate standard error of the difference in means\n",
    "    std_error = np.sqrt((np.var(control) / len(control)) + (np.var(variant) / len(variant)))\n",
    "\n",
    "    # Calculate margin of error for a 95% confidence interval\n",
    "    margin_of_error = 1.96 * std_error  # 1.96 corresponds to the critical value for a 95% CI\n",
    "\n",
    "    # Calculate the confidence interval\n",
    "    mean_difference = variant.mean() - control.mean()\n",
    "    lower_bound = mean_difference - margin_of_error\n",
    "    upper_bound = mean_difference + margin_of_error\n",
    "\n",
    "    # Display results\n",
    "    print(\"                       Results:\")\n",
    "    print(\"|------------------------------------------------------|\")\n",
    "    print(\"| Mean Difference:                  \", mean_difference.round(4), \"          |\")\n",
    "    print(\"| 95% Confidence Interval:          \", (lower_bound.round(4), upper_bound.round(4)), \"|\")\n",
    "    print(\"| Test Statistic:                   \", t_stat.round(4), \"          |\")\n",
    "    print(\"| P-value:                          \", p_value.round(4), \"           |\")\n",
    "\n",
    "    # Evaluate significance\n",
    "    alpha = 0.05\n",
    "    is_significant = (p_value < alpha)\n",
    "\n",
    "    print(\"| Is Significant (at alpha = 0.05): \", is_significant, \"            |\")\n",
    "    print(\"|------------------------------------------------------|\")"
   ]
  },
  {
   "cell_type": "code",
   "execution_count": 14,
   "metadata": {},
   "outputs": [
    {
     "name": "stdout",
     "output_type": "stream",
     "text": [
      "                                Descriptive Statistics:\n",
      "|--------------------------------------------------------------------------------------|\n",
      "| The size of the Control group is: 145232  | The size of the Variant group is: 145354 |\n",
      "| Mean Control: 0.1203                      | Mean Variant: 0.1188                     |\n",
      "| Median Control: 0.0                       | Median Variant: 0.0                      |\n",
      "| Standard Deviation Control: 0.3253        | Standard Deviation Variant: 0.3236       |\n",
      "| Variance Control: 0.1058                  | Variance Variant: 0.1047                 |\n",
      "|--------------------------------------------------------------------------------------|\n"
     ]
    }
   ],
   "source": [
    "control = getData('control', countryInd=False, countryName='')\n",
    "variant = getData('treatment', countryInd=False, countryName='')\n",
    "probability = GetStatistics(control, variant)"
   ]
  },
  {
   "cell_type": "markdown",
   "metadata": {},
   "source": [
    "The control group has .05% more users than the variant group. Even though this is likely to be insignificant, lets downsample the control group so that it matches the variant group exactly"
   ]
  },
  {
   "cell_type": "code",
   "execution_count": 15,
   "metadata": {},
   "outputs": [
    {
     "name": "stdout",
     "output_type": "stream",
     "text": [
      "| The size of the Control group is: 145354  | The size of the Variant group is: 145354 |\n"
     ]
    }
   ],
   "source": [
    "new_control = resize(control, variant, probability)"
   ]
  },
  {
   "cell_type": "markdown",
   "metadata": {},
   "source": [
    "Now the size of the control and variant groups are the same"
   ]
  },
  {
   "cell_type": "markdown",
   "metadata": {},
   "source": [
    "Is the conversion rate significantly different across groups?\n",
    "\n",
    "Null Hypothesis: There is no difference in the mean outcome between the control group and the variant group\n",
    "\n",
    "Alternate Hypothesis: The mean outcome in the variant group is not equal to the mean outcome in the control group"
   ]
  },
  {
   "cell_type": "code",
   "execution_count": 16,
   "metadata": {},
   "outputs": [
    {
     "name": "stdout",
     "output_type": "stream",
     "text": [
      "                       Results:\n",
      "|------------------------------------------------------|\n",
      "| Mean Difference:                   -0.0015           |\n",
      "| 95% Confidence Interval:           (-0.0038, 0.0009) |\n",
      "| Test Statistic:                    -1.2097           |\n",
      "| P-value:                           0.2264            |\n",
      "| Is Significant (at alpha = 0.05):  False             |\n",
      "|------------------------------------------------------|\n"
     ]
    }
   ],
   "source": [
    "evaluate(control, variant)"
   ]
  },
  {
   "cell_type": "markdown",
   "metadata": {},
   "source": [
    "Conclusion: The difference in conversion rates between the new page and the old page is not statistically significant. Management should reassess what they believe retains customers."
   ]
  },
  {
   "cell_type": "markdown",
   "metadata": {},
   "source": [
    "## Stratify Samples Based on Country"
   ]
  },
  {
   "cell_type": "code",
   "execution_count": 17,
   "metadata": {},
   "outputs": [
    {
     "data": {
      "text/plain": [
       "country\n",
       "US    203621\n",
       "UK     72466\n",
       "CA     14499\n",
       "Name: count, dtype: int64"
      ]
     },
     "execution_count": 17,
     "metadata": {},
     "output_type": "execute_result"
    }
   ],
   "source": [
    "# Find the Countries with the highest Freqs\n",
    "countries = pd.read_csv(\"/Users/mattmacrides/Personal-Projects/AB Testing (Statistics)/Data/countries.csv\")\n",
    "countries['country'].value_counts()"
   ]
  },
  {
   "cell_type": "markdown",
   "metadata": {},
   "source": [
    "Let's stratify based on all three countries"
   ]
  },
  {
   "cell_type": "markdown",
   "metadata": {},
   "source": [
    "### United States"
   ]
  },
  {
   "cell_type": "code",
   "execution_count": 18,
   "metadata": {},
   "outputs": [
    {
     "name": "stdout",
     "output_type": "stream",
     "text": [
      "                                Descriptive Statistics:\n",
      "|--------------------------------------------------------------------------------------|\n",
      "| The size of the Control group is: 101691  | The size of the Variant group is: 101930 |\n",
      "| Mean Control: 0.1205                      | Mean Variant: 0.1185                     |\n",
      "| Median Control: 0.0                       | Median Variant: 0.0                      |\n",
      "| Standard Deviation Control: 0.3255        | Standard Deviation Variant: 0.3232       |\n",
      "| Variance Control: 0.106                  | Variance Variant: 0.1045                 |\n",
      "|--------------------------------------------------------------------------------------|\n"
     ]
    }
   ],
   "source": [
    "control = getData('control', countryInd=True, countryName = 'US')\n",
    "variant = getData('treatment', countryInd=True, countryName = 'US')\n",
    "probabilityUS = GetStatistics(control, variant)\n",
    "mdUS = meanDifference(control, variant)"
   ]
  },
  {
   "cell_type": "code",
   "execution_count": 19,
   "metadata": {},
   "outputs": [
    {
     "name": "stdout",
     "output_type": "stream",
     "text": [
      "| The size of the Control group is: 101930  | The size of the Variant group is: 101930 |\n"
     ]
    }
   ],
   "source": [
    "new_control = resize(control, variant, probabilityUS)"
   ]
  },
  {
   "cell_type": "code",
   "execution_count": 20,
   "metadata": {},
   "outputs": [
    {
     "name": "stdout",
     "output_type": "stream",
     "text": [
      "                       Results:\n",
      "|------------------------------------------------------|\n",
      "| Mean Difference:                   -0.0019           |\n",
      "| 95% Confidence Interval:           (-0.0047, 0.0009) |\n",
      "| Test Statistic:                    -1.336           |\n",
      "| P-value:                           0.1815            |\n",
      "| Is Significant (at alpha = 0.05):  False             |\n",
      "|------------------------------------------------------|\n"
     ]
    }
   ],
   "source": [
    "evaluate(control, variant)"
   ]
  },
  {
   "cell_type": "markdown",
   "metadata": {},
   "source": [
    "Conclusion: The difference in conversion rates between the new page and the old page in the United States is not statistically significant. Stratifying by country did not make a difference."
   ]
  },
  {
   "cell_type": "markdown",
   "metadata": {},
   "source": [
    "### United Kingdom"
   ]
  },
  {
   "cell_type": "code",
   "execution_count": 21,
   "metadata": {},
   "outputs": [
    {
     "name": "stdout",
     "output_type": "stream",
     "text": [
      "                                Descriptive Statistics:\n",
      "|--------------------------------------------------------------------------------------|\n",
      "| The size of the Control group is: 36352  | The size of the Variant group is: 36114 |\n",
      "| Mean Control: 0.1201                      | Mean Variant: 0.121                     |\n",
      "| Median Control: 0.0                       | Median Variant: 0.0                      |\n",
      "| Standard Deviation Control: 0.3251        | Standard Deviation Variant: 0.3261       |\n",
      "| Variance Control: 0.1057                  | Variance Variant: 0.1063                 |\n",
      "|--------------------------------------------------------------------------------------|\n"
     ]
    }
   ],
   "source": [
    "control = getData('control', countryInd=True, countryName = 'UK')\n",
    "variant = getData('treatment', countryInd=True, countryName = 'UK')\n",
    "probabilityUK = GetStatistics(control, variant)\n",
    "mdUK = meanDifference(control, variant)"
   ]
  },
  {
   "cell_type": "code",
   "execution_count": 22,
   "metadata": {},
   "outputs": [
    {
     "name": "stdout",
     "output_type": "stream",
     "text": [
      "| The size of the Control group is: 36114  | The size of the Variant group is: 36114 |\n"
     ]
    }
   ],
   "source": [
    "new_control = resize(control, variant, probabilityUK)"
   ]
  },
  {
   "cell_type": "code",
   "execution_count": 23,
   "metadata": {},
   "outputs": [
    {
     "name": "stdout",
     "output_type": "stream",
     "text": [
      "                       Results:\n",
      "|------------------------------------------------------|\n",
      "| Mean Difference:                   0.0008           |\n",
      "| 95% Confidence Interval:           (-0.0039, 0.0056) |\n",
      "| Test Statistic:                    0.3501           |\n",
      "| P-value:                           0.7263            |\n",
      "| Is Significant (at alpha = 0.05):  False             |\n",
      "|------------------------------------------------------|\n"
     ]
    }
   ],
   "source": [
    "evaluate(control, variant)"
   ]
  },
  {
   "cell_type": "markdown",
   "metadata": {},
   "source": [
    "Conclusion: The difference in conversion rates between the new page and the old page in the United Kingdom is not statistically significant. Stratifying by country did not make a difference."
   ]
  },
  {
   "cell_type": "markdown",
   "metadata": {},
   "source": [
    "### Canada"
   ]
  },
  {
   "cell_type": "code",
   "execution_count": 24,
   "metadata": {},
   "outputs": [
    {
     "name": "stdout",
     "output_type": "stream",
     "text": [
      "                                Descriptive Statistics:\n",
      "|--------------------------------------------------------------------------------------|\n",
      "| The size of the Control group is: 7189  | The size of the Variant group is: 7310 |\n",
      "| Mean Control: 0.1189                      | Mean Variant: 0.1126                     |\n",
      "| Median Control: 0.0                       | Median Variant: 0.0                      |\n",
      "| Standard Deviation Control: 0.3237        | Standard Deviation Variant: 0.3161       |\n",
      "| Variance Control: 0.1048                  | Variance Variant: 0.0999                 |\n",
      "|--------------------------------------------------------------------------------------|\n"
     ]
    }
   ],
   "source": [
    "control = getData('control', countryInd=True, countryName = 'CA')\n",
    "variant = getData('treatment', countryInd=True, countryName = 'CA')\n",
    "probabilityCA = GetStatistics(control, variant)\n",
    "mdCA = meanDifference(control, variant)"
   ]
  },
  {
   "cell_type": "code",
   "execution_count": 25,
   "metadata": {},
   "outputs": [
    {
     "name": "stdout",
     "output_type": "stream",
     "text": [
      "| The size of the Control group is: 7310  | The size of the Variant group is: 7310 |\n"
     ]
    }
   ],
   "source": [
    "new_control = resize(control, variant, probabilityCA)"
   ]
  },
  {
   "cell_type": "code",
   "execution_count": 26,
   "metadata": {},
   "outputs": [
    {
     "name": "stdout",
     "output_type": "stream",
     "text": [
      "                       Results:\n",
      "|------------------------------------------------------|\n",
      "| Mean Difference:                   -0.0063           |\n",
      "| 95% Confidence Interval:           (-0.0168, 0.0041) |\n",
      "| Test Statistic:                    -1.1943           |\n",
      "| P-value:                           0.2324            |\n",
      "| Is Significant (at alpha = 0.05):  False             |\n",
      "|------------------------------------------------------|\n"
     ]
    }
   ],
   "source": [
    "evaluate(control, variant)"
   ]
  },
  {
   "cell_type": "markdown",
   "metadata": {},
   "source": [
    "Conclusion: The difference in conversion rates between the new page and the old page in the Canada is not statistically significant. Stratifying by country did not make a difference."
   ]
  },
  {
   "cell_type": "markdown",
   "metadata": {},
   "source": [
    "## Appendix"
   ]
  },
  {
   "cell_type": "markdown",
   "metadata": {},
   "source": [
    "### Country Frequencies"
   ]
  },
  {
   "cell_type": "code",
   "execution_count": 27,
   "metadata": {},
   "outputs": [
    {
     "data": {
      "text/plain": [
       "Text(0.5, 1.0, 'Value Counts of Unique Values in Your Column')"
      ]
     },
     "execution_count": 27,
     "metadata": {},
     "output_type": "execute_result"
    },
    {
     "data": {
      "image/png": "[encoded data removed]",
      "text/plain": [
       "<Figure size 640x480 with 1 Axes>"
      ]
     },
     "metadata": {},
     "output_type": "display_data"
    }
   ],
   "source": [
    "import matplotlib.pyplot as plt\n",
    "# Get the value counts\n",
    "\n",
    "value_counts = countries['country'].value_counts()\n",
    "\n",
    "# Plot the value counts\n",
    "value_counts.plot(kind='bar', rot=0, color='skyblue', edgecolor='black')\n",
    "\n",
    "# Set labels and title\n",
    "plt.xlabel('Unique Values')\n",
    "plt.ylabel('Count')\n",
    "plt.title('Value Counts of Unique Values in Your Column')"
   ]
  },
  {
   "cell_type": "markdown",
   "metadata": {},
   "source": [
    "### Country Mean Difference"
   ]
  },
  {
   "cell_type": "code",
   "execution_count": 28,
   "metadata": {},
   "outputs": [
    {
     "data": {
      "image/png": "[encoded data removed]",
      "text/plain": [
       "<Figure size 640x480 with 1 Axes>"
      ]
     },
     "metadata": {},
     "output_type": "display_data"
    }
   ],
   "source": [
    "# Names for the bars (replace with meaningful labels)\n",
    "labels = ['US', 'UK', 'CA']\n",
    "\n",
    "# Values for the bars\n",
    "values = [mdUS, mdUK, mdCA]\n",
    "\n",
    "# Create a bar plot\n",
    "plt.bar(labels, values, color=['red', 'green', 'blue'])\n",
    "\n",
    "# Set labels and title\n",
    "plt.xlabel('Groups')\n",
    "plt.ylabel('Means')\n",
    "plt.title('Comparison of Mean Difference')\n",
    "\n",
    "# Show the plot\n",
    "plt.show()"
   ]
  },
  {
   "cell_type": "markdown",
   "metadata": {},
   "source": [
    "Notice that besides the UK, the groups actually have observed less conversion rates from the old page to the new page"
   ]
  }
 ],
 "metadata": {
  "kernelspec": {
   "display_name": "Python 3",
   "language": "python",
   "name": "python3"
  },
  "language_info": {
   "codemirror_mode": {
    "name": "ipython",
    "version": 3
   },
   "file_extension": ".py",
   "mimetype": "text/x-python",
   "name": "python",
   "nbconvert_exporter": "python",
   "pygments_lexer": "ipython3",
   "version": "3.11.5"
  }
 },
 "nbformat": 4,
 "nbformat_minor": 2
}
